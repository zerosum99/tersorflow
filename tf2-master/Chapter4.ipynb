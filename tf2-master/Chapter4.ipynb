{
 "cells": [
  {
   "cell_type": "markdown",
   "metadata": {
    "colab_type": "text",
    "id": "BCq2UCUvEkhh"
   },
   "source": [
    "<시작하세요! 텐서플로 2.0 프로그래밍> 예제코드입니다.\n",
    "\n",
    "- 예제 코드를 실행하기 위해서는 [파일] > [드라이브에 사본 저장]으로 본인의 계정에 사본을 만든 다음 실행하면 됩니다.\n",
    "- 예제 코드는 [깃허브 저장소](https://github.com/wikibook/tf2)에서도 동일하게 제공됩니다. 예제에 대한 질문이나 책에 대한 질문은 깃허브 저장소의 [Issues](https://github.com/wikibook/tf2/issues)에 올려주세요.\n",
    "- 각 장의 예제 파일은 처음부터 끝까지 실행하는 상황을 가정하고 작성되었습니다. 혹시 세션이 다운되는 등의 이유로 실행이 되지 않는 경우가 있다면, 필요한 라이브러리를 import 하신 후에 실행하시면 됩니다. (tensorflow, numpy, pandas 등)"
   ]
  },
  {
   "cell_type": "code",
   "execution_count": 1,
   "metadata": {
    "colab": {},
    "colab_type": "code",
    "id": "v6lUugr1JRBt"
   },
   "outputs": [],
   "source": [
    "# 텐서플로 2 버전 선택\n",
    "try:\n",
    "    # %tensorflow_version only exists in Colab.\n",
    "    %tensorflow_version 2.x\n",
    "except Exception:\n",
    "    pass\n",
    "\n",
    "import tensorflow as tf"
   ]
  },
  {
   "cell_type": "code",
   "execution_count": 2,
   "metadata": {},
   "outputs": [
    {
     "data": {
      "text/plain": [
       "'2.2.0'"
      ]
     },
     "execution_count": 2,
     "metadata": {},
     "output_type": "execute_result"
    }
   ],
   "source": [
    "tf.__version__"
   ]
  },
  {
   "cell_type": "markdown",
   "metadata": {
    "colab_type": "text",
    "id": "SzBgd4W8N3Js"
   },
   "source": [
    "#  4.1 선형 회귀(Linear Regression)"
   ]
  },
  {
   "cell_type": "code",
   "execution_count": 3,
   "metadata": {
    "colab": {
     "base_uri": "https://localhost:8080/",
     "height": 283
    },
    "colab_type": "code",
    "id": "QChWDkRCN_tY",
    "outputId": "a82ca076-42c4-4bb8-cf32-0302b794d6b3"
   },
   "outputs": [
    {
     "data": {
      "image/png": "[encoded data removed]",
      "text/plain": [
       "<Figure size 432x288 with 1 Axes>"
      ]
     },
     "metadata": {
      "needs_background": "light"
     },
     "output_type": "display_data"
    }
   ],
   "source": [
    "# 4.1 지역별 인구증가율과 고령인구비율 시각화\n",
    "import matplotlib.pyplot as plt\n",
    "population_inc = [0.3, -0.78, 1.26, 0.03, 1.11, 15.17, 0.24, -0.24, -0.47, -0.77, -0.37, -0.85, -0.41, -0.27, 0.02, -0.76, 2.66]\n",
    "population_old = [12.27, 14.44, 11.87, 18.75, 17.52, 9.29, 16.37, 19.78, 19.51, 12.65, 14.74, 10.72, 21.94, 12.83, 15.51, 17.14, 14.42]\n",
    "plt.plot(population_inc,population_old,'bo')\n",
    "plt.xlabel('Population Growth Rate (%)')\n",
    "plt.ylabel('Elderly Population Rate (%)')\n",
    "plt.show()"
   ]
  },
  {
   "cell_type": "code",
   "execution_count": 4,
   "metadata": {
    "colab": {
     "base_uri": "https://localhost:8080/",
     "height": 283
    },
    "colab_type": "code",
    "id": "RM75JVEDNtKq",
    "outputId": "0815d78c-ff90-4b59-b4b3-2600c43ea909"
   },
   "outputs": [
    {
     "data": {
      "image/png": "[encoded data removed]",
      "text/plain": [
       "<Figure size 432x288 with 1 Axes>"
      ]
     },
     "metadata": {
      "needs_background": "light"
     },
     "output_type": "display_data"
    }
   ],
   "source": [
    "# 4.2 지역별 인구증가율과 고령인구비율 시각화: 극단치 제거\n",
    "import matplotlib.pyplot as plt\n",
    "population_inc = [0.3, -0.78, 1.26, 0.03, 1.11, 15.17, 0.24, -0.24, -0.47, -0.77, -0.37, -0.85, -0.41, -0.27, 0.02, -0.76, 2.66]\n",
    "population_inc = population_inc[:5] + population_inc[6:]\n",
    "population_old = [12.27, 14.44, 11.87, 18.75, 17.52, 9.29, 16.37, 19.78, 19.51, 12.65, 14.74, 10.72, 21.94, 12.83, 15.51, 17.14, 14.42]\n",
    "population_old = population_old[:5] + population_old[6:]\n",
    "plt.plot(population_inc,population_old,'bo')\n",
    "plt.xlabel('Population Growth Rate (%)')\n",
    "plt.ylabel('Elderly Population Rate (%)')\n",
    "plt.show()"
   ]
  },
  {
   "cell_type": "code",
   "execution_count": 5,
   "metadata": {
    "colab": {
     "base_uri": "https://localhost:8080/",
     "height": 301
    },
    "colab_type": "code",
    "id": "zjA3y39YnuVf",
    "outputId": "93eb5fa0-5be4-4171-8200-aa07d7242b7f"
   },
   "outputs": [
    {
     "name": "stdout",
     "output_type": "stream",
     "text": [
      "a: -0.355834147915461 b: 15.669317743971302\n"
     ]
    },
    {
     "data": {
      "image/png": "[encoded data removed]",
      "text/plain": [
       "<Figure size 432x288 with 1 Axes>"
      ]
     },
     "metadata": {
      "needs_background": "light"
     },
     "output_type": "display_data"
    }
   ],
   "source": [
    "# 4.3 최소제곱법으로 회귀선 구하기\n",
    "import numpy as np\n",
    "import matplotlib.pyplot as plt\n",
    "X = [0.3, -0.78, 1.26, 0.03, 1.11, 0.24, -0.24, -0.47, -0.77, -0.37, -0.85, -0.41, -0.27, 0.02, -0.76, 2.66]\n",
    "Y = [12.27, 14.44, 11.87, 18.75, 17.52, 16.37, 19.78, 19.51, 12.65, 14.74, 10.72, 21.94, 12.83, 15.51, 17.14, 14.42]\n",
    "\n",
    "# X, Y의 평균을 구합니다.\n",
    "x_bar = sum(X) / len(X)\n",
    "y_bar = sum(Y) / len(Y)\n",
    "\n",
    "# 최소제곱법으로 a, b를 구합니다.\n",
    "a = sum([(y - y_bar) * (x - x_bar) for y, x in list(zip(Y, X))])\n",
    "a /= sum([(x - x_bar) ** 2 for x in X])\n",
    "b = y_bar - a * x_bar\n",
    "print('a:', a, 'b:', b)\n",
    "\n",
    "# 그래프를 그리기 위해 회귀선의 x, y 데이터를 구합니다.\n",
    "line_x = np.arange(min(X), max(X), 0.01)\n",
    "line_y = a * line_x + b\n",
    "\n",
    "# 붉은색 실선으로 회귀선을 그립니다.\n",
    "plt.plot(line_x,line_y,'r-')\n",
    "\n",
    "plt.plot(X,Y,'bo')\n",
    "plt.xlabel('Population Growth Rate (%)')\n",
    "plt.ylabel('Elderly Population Rate (%)')\n",
    "plt.show()"
   ]
  },
  {
   "cell_type": "code",
   "execution_count": 6,
   "metadata": {
    "colab": {
     "base_uri": "https://localhost:8080/",
     "height": 463
    },
    "colab_type": "code",
    "id": "mnpySfdvnu2O",
    "outputId": "b6a23cee-78d0-425c-e8ac-a79a51fdbc14"
   },
   "outputs": [
    {
     "name": "stdout",
     "output_type": "stream",
     "text": [
      "99 a: 0.13224566 b: 6.471549 loss: 94.18352\n",
      "199 a: -0.10803597 b: 11.005038 loss: 31.485842\n",
      "299 a: -0.25040153 b: 13.684703 loss: 13.710363\n",
      "399 a: -0.31871954 b: 14.970682 loss: 10.267763\n",
      "499 a: -0.3450786 b: 15.466862 loss: 9.821697\n",
      "599 a: -0.35327843 b: 15.621211 loss: 9.783113\n",
      "699 a: -0.3553399 b: 15.660012 loss: 9.780891\n",
      "799 a: -0.35575655 b: 15.667866 loss: 9.780806\n",
      "899 a: -0.3558245 b: 15.669138 loss: 9.780804\n",
      "999 a: -0.3558333 b: 15.669302 loss: 9.780805\n"
     ]
    },
    {
     "data": {
      "image/png": "[encoded data removed]",
      "text/plain": [
       "<Figure size 432x288 with 1 Axes>"
      ]
     },
     "metadata": {
      "needs_background": "light"
     },
     "output_type": "display_data"
    }
   ],
   "source": [
    "# 4.4 텐서플로를 이용해서 회귀선 구하기\n",
    "import tensorflow as tf\n",
    "import numpy as np\n",
    "import matplotlib.pyplot as plt\n",
    "import random\n",
    "X = [0.3, -0.78, 1.26, 0.03, 1.11, 0.24, -0.24, -0.47, -0.77, -0.37, -0.85, -0.41, -0.27, 0.02, -0.76, 2.66]\n",
    "Y = [12.27, 14.44, 11.87, 18.75, 17.52, 16.37, 19.78, 19.51, 12.65, 14.74, 10.72, 21.94, 12.83, 15.51, 17.14, 14.42]\n",
    "\n",
    "# a와 b를 랜덤한 값으로 초기화합니다.\n",
    "a = tf.Variable(random.random())\n",
    "b = tf.Variable(random.random())\n",
    "\n",
    "# 잔차의 제곱의 평균을 반환하는 함수입니다.\n",
    "def compute_loss():\n",
    "    y_pred = a * X + b\n",
    "    loss = tf.reduce_mean((Y - y_pred) ** 2)\n",
    "    return loss\n",
    "\n",
    "optimizer = tf.keras.optimizers.Adam(lr=0.07)\n",
    "for i in range(1000):\n",
    "    # 잔차의 제곱의 평균을 최소화(minimize)합니다.\n",
    "    optimizer.minimize(compute_loss, var_list=[a,b])\n",
    "    \n",
    "    if i % 100 == 99:\n",
    "        print(i, 'a:', a.numpy(), 'b:', b.numpy(), 'loss:', compute_loss().numpy())\n",
    "\n",
    "line_x = np.arange(min(X), max(X), 0.01)\n",
    "line_y = a * line_x + b\n",
    "\n",
    "# 그래프를 그립니다.\n",
    "plt.plot(line_x,line_y,'r-')\n",
    "plt.plot(X,Y,'bo')\n",
    "plt.xlabel('Population Growth Rate (%)')\n",
    "plt.ylabel('Elderly Population Rate (%)')\n",
    "plt.show()"
   ]
  },
  {
   "cell_type": "markdown",
   "metadata": {
    "colab_type": "text",
    "id": "gkjyJAqnN8Zs"
   },
   "source": [
    "# 4.2 다항 회귀(Polynomial Regression)"
   ]
  },
  {
   "cell_type": "code",
   "execution_count": 7,
   "metadata": {
    "colab": {
     "base_uri": "https://localhost:8080/",
     "height": 463
    },
    "colab_type": "code",
    "id": "20I8mAhBOAid",
    "outputId": "27f112c3-d732-4aef-ba34-175bf0afef9d"
   },
   "outputs": [
    {
     "name": "stdout",
     "output_type": "stream",
     "text": [
      "99 a: 3.94363 b: -5.672094 c: 6.5603857 loss: 67.41579\n",
      "199 a: 2.6957746 b: -4.532514 c: 10.452158 loss: 30.400719\n",
      "299 a: 1.198162 b: -2.2468543 c: 13.07526 loss: 15.483669\n",
      "399 a: 0.26310518 b: -0.80204433 c: 14.677786 loss: 10.7870865\n",
      "499 a: -0.22415282 b: -0.04950534 c: 15.514173 loss: 9.681382\n",
      "599 a: -0.442138 b: 0.28712732 c: 15.888464 loss: 9.48527\n",
      "699 a: -0.5261823 b: 0.4169158 c: 16.032778 loss: 9.458984\n",
      "799 a: -0.5541436 b: 0.4600952 c: 16.080791 loss: 9.456326\n",
      "899 a: -0.56216276 b: 0.47247794 c: 16.094564 loss: 9.456123\n",
      "999 a: -0.56413496 b: 0.47552392 c: 16.09795 loss: 9.456112\n"
     ]
    },
    {
     "data": {
      "image/png": "[encoded data removed]",
      "text/plain": [
       "<Figure size 432x288 with 1 Axes>"
      ]
     },
     "metadata": {
      "needs_background": "light"
     },
     "output_type": "display_data"
    }
   ],
   "source": [
    "# 4.5 텐서플로우를 이용해서 2차 함수 회귀선 구하기\n",
    "import tensorflow as tf\n",
    "import numpy as np\n",
    "import matplotlib.pyplot as plt\n",
    "import random\n",
    "X = [0.3, -0.78, 1.26, 0.03, 1.11, 0.24, -0.24, -0.47, -0.77, -0.37, -0.85, -0.41, -0.27, 0.02, -0.76, 2.66]\n",
    "Y = [12.27, 14.44, 11.87, 18.75, 17.52, 16.37, 19.78, 19.51, 12.65, 14.74, 10.72, 21.94, 12.83, 15.51, 17.14, 14.42]\n",
    "\n",
    "# a, b, c를 랜덤한 값으로 초기화합니다.\n",
    "a = tf.Variable(random.random())\n",
    "b = tf.Variable(random.random())\n",
    "c = tf.Variable(random.random())\n",
    "\n",
    "# 잔차의 제곱의 평균을 반환하는 함수입니다.\n",
    "def compute_loss():\n",
    "    y_pred = a * X*X + b * X + c\n",
    "    loss = tf.reduce_mean((Y - y_pred) ** 2)\n",
    "    return loss\n",
    "\n",
    "optimizer = tf.keras.optimizers.Adam(lr=0.07)\n",
    "for i in range(1000):\n",
    "    # 잔차의 제곱의 평균을 최소화(minimize)합니다.\n",
    "    optimizer.minimize(compute_loss, var_list=[a,b,c])\n",
    "    \n",
    "    if i % 100 == 99:\n",
    "        print(i, 'a:', a.numpy(), 'b:', b.numpy(), 'c:', c.numpy(), 'loss:', compute_loss().numpy())\n",
    "\n",
    "line_x = np.arange(min(X), max(X), 0.01)\n",
    "line_y = a * line_x * line_x + b * line_x + c\n",
    "\n",
    "# 그래프를 그립니다.\n",
    "plt.plot(line_x,line_y,'r-')\n",
    "plt.plot(X,Y,'bo')\n",
    "plt.xlabel('Population Growth Rate (%)')\n",
    "plt.ylabel('Elderly Population Rate (%)')\n",
    "plt.show()"
   ]
  },
  {
   "cell_type": "code",
   "execution_count": 8,
   "metadata": {
    "colab": {
     "base_uri": "https://localhost:8080/",
     "height": 463
    },
    "colab_type": "code",
    "id": "eEA2cg-mCBOA",
    "outputId": "8c7ebc4a-500a-4f0f-f1c2-b8a1064e3205"
   },
   "outputs": [
    {
     "name": "stdout",
     "output_type": "stream",
     "text": [
      "99 a: -1.3060147 b: 6.151031 c: -3.6923194 d: 6.395142 loss: 62.27392\n",
      "199 a: -2.0323253 b: 6.956074 c: -2.2857811 d: 9.927447 loss: 30.853424\n",
      "299 a: -1.692358 b: 5.189644 c: -0.94978887 d: 12.084092 loss: 20.187614\n",
      "399 a: -0.9492968 b: 2.847811 c: -0.561829 d: 13.599178 loss: 14.286735\n",
      "499 a: -0.23589264 b: 0.7592883 c: -0.46369275 d: 14.737966 loss: 10.945225\n",
      "599 a: 0.323811 b: -0.8565514 c: -0.42523426 d: 15.585071 loss: 9.246593\n",
      "699 a: 0.72430897 b: -2.0098987 c: -0.40248254 d: 16.18501 loss: 8.477057\n",
      "799 a: 0.9923194 b: -2.7813296 c: -0.3878621 d: 16.585583 loss: 8.165847\n",
      "899 a: 1.1609383 b: -3.266616 c: -0.37875736 d: 16.837452 loss: 8.053453\n",
      "999 a: 1.2607865 b: -3.5539703 c: -0.37338352 d: 16.98657 loss: 8.017239\n"
     ]
    },
    {
     "data": {
      "image/png": "[encoded data removed]",
      "text/plain": [
       "<Figure size 432x288 with 1 Axes>"
      ]
     },
     "metadata": {
      "needs_background": "light"
     },
     "output_type": "display_data"
    }
   ],
   "source": [
    "# 4.6 텐서플로우를 이용해서 3차 함수 회귀선 구하기\n",
    "import tensorflow as tf\n",
    "import numpy as np\n",
    "import matplotlib.pyplot as plt\n",
    "import random\n",
    "X = [0.3, -0.78, 1.26, 0.03, 1.11, 0.24, -0.24, -0.47, -0.77, -0.37, -0.85, -0.41, -0.27, 0.02, -0.76, 2.66]\n",
    "Y = [12.27, 14.44, 11.87, 18.75, 17.52, 16.37, 19.78, 19.51, 12.65, 14.74, 10.72, 21.94, 12.83, 15.51, 17.14, 14.42]\n",
    "\n",
    "# a, b, c, d를 랜덤한 값으로 초기화합니다.\n",
    "a = tf.Variable(random.random())\n",
    "b = tf.Variable(random.random())\n",
    "c = tf.Variable(random.random())\n",
    "d = tf.Variable(random.random())\n",
    "\n",
    "# 잔차의 제곱의 평균을 반환하는 함수입니다.\n",
    "def compute_loss():\n",
    "    y_pred = a * X*X*X + b * X*X + c * X + d\n",
    "    loss = tf.reduce_mean((Y - y_pred) ** 2)\n",
    "    return loss\n",
    "\n",
    "optimizer = tf.keras.optimizers.Adam(lr=0.07)\n",
    "for i in range(1000):\n",
    "    # 잔차의 제곱의 평균을 최소화(minimize)합니다.\n",
    "    optimizer.minimize(compute_loss, var_list=[a,b,c,d])\n",
    "    \n",
    "    if i % 100 == 99:\n",
    "        print(i, 'a:', a.numpy(), 'b:', b.numpy(), 'c:', c.numpy(), 'd:', d.numpy(), 'loss:', compute_loss().numpy())\n",
    "\n",
    "line_x = np.arange(min(X), max(X), 0.01)\n",
    "line_y = a * line_x * line_x * line_x + b * line_x * line_x + c * line_x + d\n",
    "\n",
    "# 그래프를 그립니다.\n",
    "plt.plot(line_x,line_y,'r-')\n",
    "plt.plot(X,Y,'bo')\n",
    "plt.xlabel('Population Growth Rate (%)')\n",
    "plt.ylabel('Elderly Population Rate (%)')\n",
    "plt.show()"
   ]
  },
  {
   "cell_type": "markdown",
   "metadata": {
    "colab_type": "text",
    "id": "vifwuMeTOAu0"
   },
   "source": [
    "# 4.3 딥러닝 네트워크를 이용한 회귀"
   ]
  },
  {
   "cell_type": "code",
   "execution_count": 9,
   "metadata": {
    "colab": {
     "base_uri": "https://localhost:8080/",
     "height": 233
    },
    "colab_type": "code",
    "id": "00-h5uNNOM7V",
    "outputId": "f901d014-8163-4fa3-ebb6-8e26dc0c5b12"
   },
   "outputs": [
    {
     "name": "stdout",
     "output_type": "stream",
     "text": [
      "Model: \"sequential\"\n",
      "_________________________________________________________________\n",
      "Layer (type)                 Output Shape              Param #   \n",
      "=================================================================\n",
      "dense (Dense)                (None, 6)                 12        \n",
      "_________________________________________________________________\n",
      "dense_1 (Dense)              (None, 1)                 7         \n",
      "=================================================================\n",
      "Total params: 19\n",
      "Trainable params: 19\n",
      "Non-trainable params: 0\n",
      "_________________________________________________________________\n"
     ]
    }
   ],
   "source": [
    "# 4.7 딥러닝 네트워크를 이용한 회귀\n",
    "import tensorflow as tf\n",
    "import numpy as np\n",
    "\n",
    "X = [0.3, -0.78, 1.26, 0.03, 1.11, 0.24, -0.24, -0.47, -0.77, -0.37, -0.85, -0.41, -0.27, 0.02, -0.76, 2.66]\n",
    "Y = [12.27, 14.44, 11.87, 18.75, 17.52, 16.37, 19.78, 19.51, 12.65, 14.74, 10.72, 21.94, 12.83, 15.51, 17.14, 14.42]\n",
    "\n",
    "model = tf.keras.Sequential([\n",
    "    tf.keras.layers.Dense(units=6, activation='tanh', input_shape=(1,)),\n",
    "    tf.keras.layers.Dense(units=1)\n",
    "])\n",
    "\n",
    "model.compile(optimizer=tf.keras.optimizers.SGD(lr=0.1), loss='mse')\n",
    "\n",
    "model.summary()"
   ]
  },
  {
   "cell_type": "code",
   "execution_count": 10,
   "metadata": {
    "colab": {
     "base_uri": "https://localhost:8080/",
     "height": 395
    },
    "colab_type": "code",
    "id": "QylCvZXCJ16b",
    "outputId": "9cea4b57-272b-40d3-cd09-d2c4ffca5614"
   },
   "outputs": [
    {
     "name": "stdout",
     "output_type": "stream",
     "text": [
      "Epoch 1/10\n",
      "1/1 [==============================] - 0s 849us/step - loss: 256.7762\n",
      "Epoch 2/10\n",
      "1/1 [==============================] - 0s 1ms/step - loss: 130.1087\n",
      "Epoch 3/10\n",
      "1/1 [==============================] - 0s 1ms/step - loss: 12.8134\n",
      "Epoch 4/10\n",
      "1/1 [==============================] - 0s 814us/step - loss: 9.4566\n",
      "Epoch 5/10\n",
      "1/1 [==============================] - 0s 1ms/step - loss: 9.2508\n",
      "Epoch 6/10\n",
      "1/1 [==============================] - 0s 1ms/step - loss: 9.1922\n",
      "Epoch 7/10\n",
      "1/1 [==============================] - 0s 1ms/step - loss: 9.1447\n",
      "Epoch 8/10\n",
      "1/1 [==============================] - 0s 2ms/step - loss: 9.0978\n",
      "Epoch 9/10\n",
      "1/1 [==============================] - 0s 1ms/step - loss: 9.0511\n",
      "Epoch 10/10\n",
      "1/1 [==============================] - 0s 1ms/step - loss: 9.0045\n"
     ]
    },
    {
     "data": {
      "text/plain": [
       "<tensorflow.python.keras.callbacks.History at 0x14876c290>"
      ]
     },
     "execution_count": 10,
     "metadata": {},
     "output_type": "execute_result"
    }
   ],
   "source": [
    "# 4.8 딥러닝 네트워크의 학습\n",
    "model.fit(X, Y, epochs=10)"
   ]
  },
  {
   "cell_type": "code",
   "execution_count": 11,
   "metadata": {
    "colab": {
     "base_uri": "https://localhost:8080/",
     "height": 305
    },
    "colab_type": "code",
    "id": "dKNRgRT-VmNo",
    "outputId": "ade404ad-a424-46bb-dff1-c8a912c0ac21"
   },
   "outputs": [
    {
     "data": {
      "text/plain": [
       "array([[16.217999],\n",
       "       [15.331625],\n",
       "       [14.816326],\n",
       "       [16.270876],\n",
       "       [15.067665],\n",
       "       [16.247412],\n",
       "       [16.126652],\n",
       "       [15.862555],\n",
       "       [15.351421],\n",
       "       [15.992325],\n",
       "       [15.188819],\n",
       "       [15.943085],\n",
       "       [16.09923 ],\n",
       "       [16.268955],\n",
       "       [15.371059],\n",
       "       [13.924105]], dtype=float32)"
      ]
     },
     "execution_count": 11,
     "metadata": {},
     "output_type": "execute_result"
    }
   ],
   "source": [
    "# 4.9 딥러닝 네트워크의 Y값 예측\n",
    "model.predict(X)"
   ]
  },
  {
   "cell_type": "code",
   "execution_count": 12,
   "metadata": {
    "colab": {
     "base_uri": "https://localhost:8080/",
     "height": 283
    },
    "colab_type": "code",
    "id": "3hOY981DK93b",
    "outputId": "ae1087c2-0b96-4800-b8c7-66e5a0f73d16"
   },
   "outputs": [
    {
     "data": {
      "image/png": "[encoded data removed]",
      "text/plain": [
       "<Figure size 432x288 with 1 Axes>"
      ]
     },
     "metadata": {
      "needs_background": "light"
     },
     "output_type": "display_data"
    }
   ],
   "source": [
    "# 4.10 딥러닝 네트워크의 회귀선 확인\n",
    "import matplotlib.pyplot as plt\n",
    "\n",
    "line_x = np.arange(min(X), max(X), 0.01)\n",
    "line_y = model.predict(line_x)\n",
    "\n",
    "plt.plot(line_x,line_y,'r-')\n",
    "plt.plot(X,Y,'bo')\n",
    "plt.xlabel('Population Growth Rate (%)')\n",
    "plt.ylabel('Elderly Population Rate (%)')\n",
    "plt.show()"
   ]
  },
  {
   "cell_type": "code",
   "execution_count": 13,
   "metadata": {
    "colab": {
     "base_uri": "https://localhost:8080/",
     "height": 269
    },
    "colab_type": "code",
    "id": "hXUej2dfYEi3",
    "outputId": "879ab97f-8e9d-4592-89eb-e520732e7a1a"
   },
   "outputs": [
    {
     "data": {
      "image/png": "[encoded data removed]",
      "text/plain": [
       "<Figure size 432x288 with 1 Axes>"
      ]
     },
     "metadata": {
      "needs_background": "light"
     },
     "output_type": "display_data"
    }
   ],
   "source": [
    "# 그림 4.2 출력 코드\n",
    "import math\n",
    "def sigmoid(x):\n",
    "    return 1 / (1 + math.exp(-x))\n",
    "\n",
    "x = np.arange(-5, 5, 0.01)\n",
    "sigmoid_x = [sigmoid(z) for z in x]\n",
    "tanh_x = [math.tanh(z) for z in x]\n",
    "\n",
    "plt.axhline(0, color='gray')\n",
    "plt.axvline(0, color='gray')\n",
    "plt.plot(x, sigmoid_x, 'b-', label='sigmoid')\n",
    "plt.plot(x, tanh_x, 'r--', label='tanh')\n",
    "plt.legend()\n",
    "plt.show()"
   ]
  },
  {
   "cell_type": "markdown",
   "metadata": {
    "colab_type": "text",
    "id": "raf-pMEBKfmn"
   },
   "source": [
    "# 4.4 보스턴 주택 가격 데이터세트(Boston Housing Dataset)"
   ]
  },
  {
   "cell_type": "code",
   "execution_count": 14,
   "metadata": {
    "colab": {
     "base_uri": "https://localhost:8080/",
     "height": 89
    },
    "colab_type": "code",
    "id": "nYyev2iFKf-M",
    "outputId": "208cbd88-ed60-424e-d71c-7399faefcd5d"
   },
   "outputs": [
    {
     "name": "stdout",
     "output_type": "stream",
     "text": [
      "404 102\n",
      "[  1.23247   0.        8.14      0.        0.538     6.142    91.7\n",
      "   3.9769    4.      307.       21.      396.9      18.72   ]\n",
      "15.2\n"
     ]
    }
   ],
   "source": [
    "# 4.11 데이터 불러오기\n",
    "from tensorflow.keras.datasets import boston_housing\n",
    "(train_X, train_Y), (test_X, test_Y) = boston_housing.load_data()\n",
    "\n",
    "print(len(train_X), len(test_X))\n",
    "print(train_X[0])\n",
    "print(train_Y[0])"
   ]
  },
  {
   "cell_type": "code",
   "execution_count": 15,
   "metadata": {
    "colab": {
     "base_uri": "https://localhost:8080/",
     "height": 89
    },
    "colab_type": "code",
    "id": "SavRNrV6oVxE",
    "outputId": "c7dce322-8f79-4fa6-f850-c1fda0cd4454"
   },
   "outputs": [
    {
     "name": "stdout",
     "output_type": "stream",
     "text": [
      "[-0.27224633 -0.48361547 -0.43576161 -0.25683275 -0.1652266  -0.1764426\n",
      "  0.81306188  0.1166983  -0.62624905 -0.59517003  1.14850044  0.44807713\n",
      "  0.8252202 ]\n",
      "-0.7821526033779157\n"
     ]
    }
   ],
   "source": [
    "# 4.12 데이터 전처리(정규화)\n",
    "x_mean = train_X.mean(axis=0)\n",
    "x_std = train_X.std(axis=0)\n",
    "train_X -= x_mean\n",
    "train_X /= x_std\n",
    "test_X -= x_mean\n",
    "test_X /= x_std\n",
    "\n",
    "y_mean = train_Y.mean(axis=0)\n",
    "y_std = train_Y.std(axis=0)\n",
    "train_Y -= y_mean\n",
    "train_Y /= y_std\n",
    "test_Y -= y_mean\n",
    "test_Y /= y_std\n",
    "\n",
    "print(train_X[0])\n",
    "print(train_Y[0])"
   ]
  },
  {
   "cell_type": "code",
   "execution_count": 16,
   "metadata": {
    "colab": {
     "base_uri": "https://localhost:8080/",
     "height": 305
    },
    "colab_type": "code",
    "id": "cwSYzQG0Ych9",
    "outputId": "b801bd07-d7e7-44e7-9872-65ac97593f90"
   },
   "outputs": [
    {
     "name": "stdout",
     "output_type": "stream",
     "text": [
      "Model: \"sequential_1\"\n",
      "_________________________________________________________________\n",
      "Layer (type)                 Output Shape              Param #   \n",
      "=================================================================\n",
      "dense_2 (Dense)              (None, 52)                728       \n",
      "_________________________________________________________________\n",
      "dense_3 (Dense)              (None, 39)                2067      \n",
      "_________________________________________________________________\n",
      "dense_4 (Dense)              (None, 26)                1040      \n",
      "_________________________________________________________________\n",
      "dense_5 (Dense)              (None, 1)                 27        \n",
      "=================================================================\n",
      "Total params: 3,862\n",
      "Trainable params: 3,862\n",
      "Non-trainable params: 0\n",
      "_________________________________________________________________\n"
     ]
    }
   ],
   "source": [
    "# 4.13 Boston Housing Dataset 회귀 모델 생성\n",
    "model = tf.keras.Sequential([\n",
    "    tf.keras.layers.Dense(units=52, activation='relu', input_shape=(13,)),\n",
    "    tf.keras.layers.Dense(units=39, activation='relu'),\n",
    "    tf.keras.layers.Dense(units=26, activation='relu'),\n",
    "    tf.keras.layers.Dense(units=1)\n",
    "])\n",
    "\n",
    "model.compile(optimizer=tf.keras.optimizers.Adam(lr=0.07), loss='mse')\n",
    "\n",
    "model.summary()"
   ]
  },
  {
   "cell_type": "code",
   "execution_count": 17,
   "metadata": {
    "colab": {
     "base_uri": "https://localhost:8080/",
     "height": 265
    },
    "colab_type": "code",
    "id": "TnQV-j20JTgI",
    "outputId": "6a72133c-1dd9-4d37-acc6-048ec712ee37"
   },
   "outputs": [
    {
     "data": {
      "image/png": "[encoded data removed]",
      "text/plain": [
       "<Figure size 432x288 with 1 Axes>"
      ]
     },
     "metadata": {
      "needs_background": "light"
     },
     "output_type": "display_data"
    }
   ],
   "source": [
    "# 그림 4.5 출력 코드\n",
    "import math\n",
    "def sigmoid(x):\n",
    "    return 1 / (1 + math.exp(-x))\n",
    "\n",
    "x = np.arange(-5, 5, 0.01)\n",
    "sigmoid_x = [sigmoid(z) for z in x]\n",
    "tanh_x = [math.tanh(z) for z in x]\n",
    "relu = [0 if z < 0 else z for z in x]\n",
    "\n",
    "plt.axhline(0, color='gray')\n",
    "plt.axvline(0, color='gray')\n",
    "plt.plot(x, sigmoid_x, 'b-', label='sigmoid')\n",
    "plt.plot(x, tanh_x, 'r--', label='tanh')\n",
    "plt.plot(x, relu, 'g.', label='relu')\n",
    "plt.legend()\n",
    "plt.show()"
   ]
  },
  {
   "cell_type": "code",
   "execution_count": 18,
   "metadata": {
    "colab": {
     "base_uri": "https://localhost:8080/",
     "height": 917
    },
    "colab_type": "code",
    "id": "wnXGDmwWYud1",
    "outputId": "d63b10f2-5981-442b-b130-80a636468811"
   },
   "outputs": [
    {
     "name": "stdout",
     "output_type": "stream",
     "text": [
      "Epoch 1/25\n",
      "10/10 [==============================] - 0s 20ms/step - loss: 1.6416 - val_loss: 1.1239\n",
      "Epoch 2/25\n",
      "10/10 [==============================] - 0s 5ms/step - loss: 0.5727 - val_loss: 0.7816\n",
      "Epoch 3/25\n",
      "10/10 [==============================] - 0s 5ms/step - loss: 0.3356 - val_loss: 0.3605\n",
      "Epoch 4/25\n",
      "10/10 [==============================] - 0s 5ms/step - loss: 0.2689 - val_loss: 0.2766\n",
      "Epoch 5/25\n",
      "10/10 [==============================] - 0s 5ms/step - loss: 0.2298 - val_loss: 0.2447\n",
      "Epoch 6/25\n",
      "10/10 [==============================] - 0s 5ms/step - loss: 0.1966 - val_loss: 0.2290\n",
      "Epoch 7/25\n",
      "10/10 [==============================] - 0s 5ms/step - loss: 0.1684 - val_loss: 0.3756\n",
      "Epoch 8/25\n",
      "10/10 [==============================] - 0s 7ms/step - loss: 0.1990 - val_loss: 0.3812\n",
      "Epoch 9/25\n",
      "10/10 [==============================] - 0s 8ms/step - loss: 0.1692 - val_loss: 0.3126\n",
      "Epoch 10/25\n",
      "10/10 [==============================] - 0s 5ms/step - loss: 0.1473 - val_loss: 0.1896\n",
      "Epoch 11/25\n",
      "10/10 [==============================] - 0s 6ms/step - loss: 0.1490 - val_loss: 0.1631\n",
      "Epoch 12/25\n",
      "10/10 [==============================] - 0s 7ms/step - loss: 0.1256 - val_loss: 0.2048\n",
      "Epoch 13/25\n",
      "10/10 [==============================] - 0s 8ms/step - loss: 0.1596 - val_loss: 0.1535\n",
      "Epoch 14/25\n",
      "10/10 [==============================] - 0s 5ms/step - loss: 0.1467 - val_loss: 0.1685\n",
      "Epoch 15/25\n",
      "10/10 [==============================] - 0s 6ms/step - loss: 0.0921 - val_loss: 0.1407\n",
      "Epoch 16/25\n",
      "10/10 [==============================] - 0s 6ms/step - loss: 0.0874 - val_loss: 0.1489\n",
      "Epoch 17/25\n",
      "10/10 [==============================] - 0s 7ms/step - loss: 0.1094 - val_loss: 0.1623\n",
      "Epoch 18/25\n",
      "10/10 [==============================] - 0s 8ms/step - loss: 0.1330 - val_loss: 0.1400\n",
      "Epoch 19/25\n",
      "10/10 [==============================] - 0s 10ms/step - loss: 0.1136 - val_loss: 0.2761\n",
      "Epoch 20/25\n",
      "10/10 [==============================] - 0s 9ms/step - loss: 0.1512 - val_loss: 0.1854\n",
      "Epoch 21/25\n",
      "10/10 [==============================] - 0s 6ms/step - loss: 0.1149 - val_loss: 0.1695\n",
      "Epoch 22/25\n",
      "10/10 [==============================] - 0s 6ms/step - loss: 0.1180 - val_loss: 0.1579\n",
      "Epoch 23/25\n",
      "10/10 [==============================] - 0s 6ms/step - loss: 0.0885 - val_loss: 0.1620\n",
      "Epoch 24/25\n",
      "10/10 [==============================] - 0s 7ms/step - loss: 0.1151 - val_loss: 0.2249\n",
      "Epoch 25/25\n",
      "10/10 [==============================] - 0s 6ms/step - loss: 0.1021 - val_loss: 0.1865\n"
     ]
    }
   ],
   "source": [
    "# 4.14 회귀 모델 학습\n",
    "history = model.fit(train_X, train_Y, epochs=25, batch_size=32, validation_split=0.25)"
   ]
  },
  {
   "cell_type": "code",
   "execution_count": 19,
   "metadata": {
    "colab": {
     "base_uri": "https://localhost:8080/",
     "height": 279
    },
    "colab_type": "code",
    "id": "oQFhYTeHmkeb",
    "outputId": "5b9902dc-a289-48c9-c781-88d0ea4470c3"
   },
   "outputs": [
    {
     "data": {
      "image/png": "[encoded data removed]",
      "text/plain": [
       "<Figure size 432x288 with 1 Axes>"
      ]
     },
     "metadata": {
      "needs_background": "light"
     },
     "output_type": "display_data"
    }
   ],
   "source": [
    "# 4.15 회귀 모델 학습 결과 시각화\n",
    "import matplotlib.pyplot as plt\n",
    "plt.plot(history.history['loss'], 'b-', label='loss')\n",
    "plt.plot(history.history['val_loss'], 'r--', label='val_loss')\n",
    "plt.xlabel('Epoch')\n",
    "plt.legend()\n",
    "plt.show()"
   ]
  },
  {
   "cell_type": "code",
   "execution_count": 20,
   "metadata": {
    "colab": {
     "base_uri": "https://localhost:8080/",
     "height": 53
    },
    "colab_type": "code",
    "id": "FXIL_Isaao_t",
    "outputId": "a89a1d63-d651-43e8-f225-79c43fcd880a"
   },
   "outputs": [
    {
     "name": "stdout",
     "output_type": "stream",
     "text": [
      "4/4 [==============================] - 0s 2ms/step - loss: 0.1826\n"
     ]
    },
    {
     "data": {
      "text/plain": [
       "0.18255099654197693"
      ]
     },
     "execution_count": 20,
     "metadata": {},
     "output_type": "execute_result"
    }
   ],
   "source": [
    "# 4.16 회귀 모델 평가\n",
    "model.evaluate(test_X, test_Y)"
   ]
  },
  {
   "cell_type": "code",
   "execution_count": 21,
   "metadata": {
    "colab": {
     "base_uri": "https://localhost:8080/",
     "height": 339
    },
    "colab_type": "code",
    "id": "JchlHj_HH0cb",
    "outputId": "1b266ad5-78e4-4133-ca9d-5d7267a3b83d"
   },
   "outputs": [
    {
     "data": {
      "image/png": "[encoded data removed]",
      "text/plain": [
       "<Figure size 360x360 with 1 Axes>"
      ]
     },
     "metadata": {
      "needs_background": "light"
     },
     "output_type": "display_data"
    }
   ],
   "source": [
    "# 4.17 실제 주택 가격과 예측 주택 가격 시각화\n",
    "import matplotlib.pyplot as plt\n",
    "\n",
    "pred_Y = model.predict(test_X)\n",
    "\n",
    "plt.figure(figsize=(5,5))\n",
    "plt.plot(test_Y, pred_Y, 'b.')\n",
    "plt.axis([min(test_Y), max(test_Y), min(test_Y), max(test_Y)])\n",
    "\n",
    "# y=x에 해당하는 대각선\n",
    "plt.plot([min(test_Y), max(test_Y)], [min(test_Y), max(test_Y)], ls=\"--\", c=\".3\")\n",
    "plt.xlabel('test_Y')\n",
    "plt.ylabel('pred_Y')\n",
    "\n",
    "plt.show()"
   ]
  },
  {
   "cell_type": "code",
   "execution_count": 26,
   "metadata": {},
   "outputs": [
    {
     "data": {
      "text/plain": [
       "[-1.825740279496296, 3.0008527225512145]"
      ]
     },
     "execution_count": 26,
     "metadata": {},
     "output_type": "execute_result"
    }
   ],
   "source": [
    "[min(test_Y), max(test_Y)]"
   ]
  },
  {
   "cell_type": "code",
   "execution_count": 27,
   "metadata": {},
   "outputs": [
    {
     "data": {
      "text/plain": [
       "[-1.825740279496296, 3.0008527225512145]"
      ]
     },
     "execution_count": 27,
     "metadata": {},
     "output_type": "execute_result"
    }
   ],
   "source": [
    "[min(test_Y), max(test_Y)]"
   ]
  },
  {
   "cell_type": "code",
   "execution_count": 28,
   "metadata": {},
   "outputs": [
    {
     "data": {
      "text/plain": [
       "[<matplotlib.lines.Line2D at 0x1486787d0>]"
      ]
     },
     "execution_count": 28,
     "metadata": {},
     "output_type": "execute_result"
    },
    {
     "data": {
      "image/png": "[encoded data removed]",
      "text/plain": [
       "<Figure size 432x288 with 1 Axes>"
      ]
     },
     "metadata": {
      "needs_background": "light"
     },
     "output_type": "display_data"
    }
   ],
   "source": [
    "plt.plot([min(test_Y), max(test_Y)], [min(test_Y), max(test_Y)], ls=\"--\", c=\".3\")"
   ]
  },
  {
   "cell_type": "code",
   "execution_count": null,
   "metadata": {},
   "outputs": [],
   "source": []
  },
  {
   "cell_type": "code",
   "execution_count": 22,
   "metadata": {
    "colab": {
     "base_uri": "https://localhost:8080/",
     "height": 665
    },
    "colab_type": "code",
    "id": "m0FujtGj_bg2",
    "outputId": "8259f352-1dfe-4a02-cee4-3d431d17b080"
   },
   "outputs": [
    {
     "name": "stdout",
     "output_type": "stream",
     "text": [
      "Epoch 1/25\n",
      "10/10 [==============================] - 0s 12ms/step - loss: 3.3090 - val_loss: 1.2370\n",
      "Epoch 2/25\n",
      "10/10 [==============================] - 0s 5ms/step - loss: 0.7976 - val_loss: 1.0959\n",
      "Epoch 3/25\n",
      "10/10 [==============================] - 0s 4ms/step - loss: 0.6556 - val_loss: 0.8133\n",
      "Epoch 4/25\n",
      "10/10 [==============================] - 0s 4ms/step - loss: 0.3872 - val_loss: 0.5533\n",
      "Epoch 5/25\n",
      "10/10 [==============================] - 0s 4ms/step - loss: 0.3033 - val_loss: 0.4393\n",
      "Epoch 6/25\n",
      "10/10 [==============================] - 0s 4ms/step - loss: 0.2618 - val_loss: 0.4358\n",
      "Epoch 7/25\n",
      "10/10 [==============================] - 0s 5ms/step - loss: 0.2558 - val_loss: 0.4952\n",
      "Epoch 8/25\n",
      "10/10 [==============================] - 0s 5ms/step - loss: 0.2641 - val_loss: 0.3756\n",
      "Epoch 9/25\n",
      "10/10 [==============================] - 0s 5ms/step - loss: 0.2123 - val_loss: 0.3538\n",
      "Epoch 10/25\n",
      "10/10 [==============================] - 0s 6ms/step - loss: 0.2080 - val_loss: 0.3614\n",
      "Epoch 11/25\n",
      "10/10 [==============================] - 0s 5ms/step - loss: 0.2121 - val_loss: 0.3556\n",
      "Epoch 12/25\n",
      "10/10 [==============================] - 0s 5ms/step - loss: 0.1946 - val_loss: 0.3384\n",
      "Epoch 13/25\n",
      "10/10 [==============================] - 0s 5ms/step - loss: 0.2250 - val_loss: 0.3668\n",
      "Epoch 14/25\n",
      "10/10 [==============================] - 0s 5ms/step - loss: 0.2607 - val_loss: 0.3578\n",
      "Epoch 15/25\n",
      "10/10 [==============================] - 0s 5ms/step - loss: 0.2097 - val_loss: 0.4032\n"
     ]
    }
   ],
   "source": [
    "# 4.18 모델 재정의 및 학습\n",
    "model = tf.keras.Sequential([\n",
    "    tf.keras.layers.Dense(units=52, activation='relu', input_shape=(13,)),\n",
    "    tf.keras.layers.Dense(units=39, activation='relu'),\n",
    "    tf.keras.layers.Dense(units=26, activation='relu'),\n",
    "    tf.keras.layers.Dense(units=1)\n",
    "])\n",
    "\n",
    "model.compile(optimizer=tf.keras.optimizers.Adam(lr=0.07), loss='mse')\n",
    "\n",
    "history = model.fit(train_X, train_Y, epochs=25, batch_size=32, validation_split=0.25, callbacks=[tf.keras.callbacks.EarlyStopping(patience=3, monitor='val_loss')])"
   ]
  },
  {
   "cell_type": "code",
   "execution_count": 23,
   "metadata": {
    "colab": {
     "base_uri": "https://localhost:8080/",
     "height": 279
    },
    "colab_type": "code",
    "id": "JRuoLaJM_zIK",
    "outputId": "d390585d-308d-45c2-ad8e-636bdc7b512a"
   },
   "outputs": [
    {
     "data": {
      "image/png": "[encoded data removed]",
      "text/plain": [
       "<Figure size 432x288 with 1 Axes>"
      ]
     },
     "metadata": {
      "needs_background": "light"
     },
     "output_type": "display_data"
    }
   ],
   "source": [
    "# 4.19 회귀 모델 학습 결과 시각화\n",
    "import matplotlib.pyplot as plt\n",
    "plt.plot(history.history['loss'], 'b-', label='loss')\n",
    "plt.plot(history.history['val_loss'], 'r--', label='val_loss')\n",
    "plt.xlabel('Epoch')\n",
    "plt.legend()\n",
    "plt.show()"
   ]
  },
  {
   "cell_type": "code",
   "execution_count": 24,
   "metadata": {
    "colab": {
     "base_uri": "https://localhost:8080/",
     "height": 53
    },
    "colab_type": "code",
    "id": "UBTn6vOq_3ar",
    "outputId": "78f0d2a8-e126-417e-abe0-0eef5af658e9"
   },
   "outputs": [
    {
     "name": "stdout",
     "output_type": "stream",
     "text": [
      "4/4 [==============================] - 0s 3ms/step - loss: 0.1990\n"
     ]
    },
    {
     "data": {
      "text/plain": [
       "0.19895239174365997"
      ]
     },
     "execution_count": 24,
     "metadata": {},
     "output_type": "execute_result"
    }
   ],
   "source": [
    "# 4.20 회귀 모델 평가\n",
    "model.evaluate(test_X, test_Y)"
   ]
  },
  {
   "cell_type": "code",
   "execution_count": 25,
   "metadata": {
    "colab": {
     "base_uri": "https://localhost:8080/",
     "height": 339
    },
    "colab_type": "code",
    "id": "5dBsLf-GDphx",
    "outputId": "4186a0f2-70be-4b18-e7f2-11b4ae781634"
   },
   "outputs": [
    {
     "data": {
      "image/png": "[encoded data removed]",
      "text/plain": [
       "<Figure size 360x360 with 1 Axes>"
      ]
     },
     "metadata": {
      "needs_background": "light"
     },
     "output_type": "display_data"
    }
   ],
   "source": [
    "# 4.21 실제 주택 가격과 예측 주택 가격 시각화\n",
    "import matplotlib.pyplot as plt\n",
    "\n",
    "pred_Y = model.predict(test_X)\n",
    "\n",
    "plt.figure(figsize=(5,5))\n",
    "plt.plot(test_Y, pred_Y, 'b.')\n",
    "plt.axis([min(test_Y), max(test_Y), min(test_Y), max(test_Y)])\n",
    "\n",
    "plt.plot([min(test_Y), max(test_Y)], [min(test_Y), max(test_Y)], ls=\"--\", c=\".3\")\n",
    "plt.xlabel('test_Y')\n",
    "plt.ylabel('pred_Y')\n",
    "\n",
    "plt.show()"
   ]
  }
 ],
 "metadata": {
  "accelerator": "GPU",
  "colab": {
   "collapsed_sections": [],
   "name": "Chapter4.ipynb",
   "provenance": [],
   "toc_visible": true
  },
  "kernelspec": {
   "display_name": "Python 3",
   "language": "python",
   "name": "python3"
  },
  "language_info": {
   "codemirror_mode": {
    "name": "ipython",
    "version": 3
   },
   "file_extension": ".py",
   "mimetype": "text/x-python",
   "name": "python",
   "nbconvert_exporter": "python",
   "pygments_lexer": "ipython3",
   "version": "3.7.7"
  }
 },
 "nbformat": 4,
 "nbformat_minor": 1
}
