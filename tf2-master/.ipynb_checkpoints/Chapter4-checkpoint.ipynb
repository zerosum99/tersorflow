{
 "cells": [
  {
   "cell_type": "markdown",
   "metadata": {
    "colab_type": "text",
    "id": "BCq2UCUvEkhh"
   },
   "source": [
    "<시작하세요! 텐서플로 2.0 프로그래밍> 예제코드입니다.\n",
    "\n",
    "- 예제 코드를 실행하기 위해서는 [파일] > [드라이브에 사본 저장]으로 본인의 계정에 사본을 만든 다음 실행하면 됩니다.\n",
    "- 예제 코드는 [깃허브 저장소](https://github.com/wikibook/tf2)에서도 동일하게 제공됩니다. 예제에 대한 질문이나 책에 대한 질문은 깃허브 저장소의 [Issues](https://github.com/wikibook/tf2/issues)에 올려주세요.\n",
    "- 각 장의 예제 파일은 처음부터 끝까지 실행하는 상황을 가정하고 작성되었습니다. 혹시 세션이 다운되는 등의 이유로 실행이 되지 않는 경우가 있다면, 필요한 라이브러리를 import 하신 후에 실행하시면 됩니다. (tensorflow, numpy, pandas 등)"
   ]
  },
  {
   "cell_type": "code",
   "execution_count": 1,
   "metadata": {
    "colab": {},
    "colab_type": "code",
    "id": "v6lUugr1JRBt"
   },
   "outputs": [],
   "source": [
    "# 텐서플로 2 버전 선택\n",
    "try:\n",
    "    # %tensorflow_version only exists in Colab.\n",
    "    %tensorflow_version 2.x\n",
    "except Exception:\n",
    "    pass\n",
    "\n",
    "import tensorflow as tf"
   ]
  },
  {
   "cell_type": "code",
   "execution_count": 2,
   "metadata": {},
   "outputs": [
    {
     "data": {
      "text/plain": [
       "'2.2.0'"
      ]
     },
     "execution_count": 2,
     "metadata": {},
     "output_type": "execute_result"
    }
   ],
   "source": [
    "tf.__version__"
   ]
  },
  {
   "cell_type": "markdown",
   "metadata": {
    "colab_type": "text",
    "id": "SzBgd4W8N3Js"
   },
   "source": [
    "#  4.1 선형 회귀(Linear Regression)"
   ]
  },
  {
   "cell_type": "code",
   "execution_count": 3,
   "metadata": {
    "colab": {
     "base_uri": "https://localhost:8080/",
     "height": 283
    },
    "colab_type": "code",
    "id": "QChWDkRCN_tY",
    "outputId": "a82ca076-42c4-4bb8-cf32-0302b794d6b3"
   },
   "outputs": [
    {
     "data": {
      "image/png": "[encoded data removed]",
      "text/plain": [
       "<Figure size 432x288 with 1 Axes>"
      ]
     },
     "metadata": {
      "needs_background": "light"
     },
     "output_type": "display_data"
    }
   ],
   "source": [
    "# 4.1 지역별 인구증가율과 고령인구비율 시각화\n",
    "import matplotlib.pyplot as plt\n",
    "population_inc = [0.3, -0.78, 1.26, 0.03, 1.11, 15.17, 0.24, -0.24, -0.47, -0.77, -0.37, -0.85, -0.41, -0.27, 0.02, -0.76, 2.66]\n",
    "population_old = [12.27, 14.44, 11.87, 18.75, 17.52, 9.29, 16.37, 19.78, 19.51, 12.65, 14.74, 10.72, 21.94, 12.83, 15.51, 17.14, 14.42]\n",
    "plt.plot(population_inc,population_old,'bo')\n",
    "plt.xlabel('Population Growth Rate (%)')\n",
    "plt.ylabel('Elderly Population Rate (%)')\n",
    "plt.show()"
   ]
  },
  {
   "cell_type": "code",
   "execution_count": 4,
   "metadata": {
    "colab": {
     "base_uri": "https://localhost:8080/",
     "height": 283
    },
    "colab_type": "code",
    "id": "RM75JVEDNtKq",
    "outputId": "0815d78c-ff90-4b59-b4b3-2600c43ea909"
   },
   "outputs": [
    {
     "data": {
      "image/png": "[encoded data removed]",
      "text/plain": [
       "<Figure size 432x288 with 1 Axes>"
      ]
     },
     "metadata": {
      "needs_background": "light"
     },
     "output_type": "display_data"
    }
   ],
   "source": [
    "# 4.2 지역별 인구증가율과 고령인구비율 시각화: 극단치 제거\n",
    "import matplotlib.pyplot as plt\n",
    "population_inc = [0.3, -0.78, 1.26, 0.03, 1.11, 15.17, 0.24, -0.24, -0.47, -0.77, -0.37, -0.85, -0.41, -0.27, 0.02, -0.76, 2.66]\n",
    "population_inc = population_inc[:5] + population_inc[6:]\n",
    "population_old = [12.27, 14.44, 11.87, 18.75, 17.52, 9.29, 16.37, 19.78, 19.51, 12.65, 14.74, 10.72, 21.94, 12.83, 15.51, 17.14, 14.42]\n",
    "population_old = population_old[:5] + population_old[6:]\n",
    "plt.plot(population_inc,population_old,'bo')\n",
    "plt.xlabel('Population Growth Rate (%)')\n",
    "plt.ylabel('Elderly Population Rate (%)')\n",
    "plt.show()"
   ]
  },
  {
   "cell_type": "code",
   "execution_count": 5,
   "metadata": {
    "colab": {
     "base_uri": "https://localhost:8080/",
     "height": 301
    },
    "colab_type": "code",
    "id": "zjA3y39YnuVf",
    "outputId": "93eb5fa0-5be4-4171-8200-aa07d7242b7f"
   },
   "outputs": [
    {
     "name": "stdout",
     "output_type": "stream",
     "text": [
      "a: -0.355834147915461 b: 15.669317743971302\n"
     ]
    },
    {
     "data": {
      "image/png": "[encoded data removed]",
      "text/plain": [
       "<Figure size 432x288 with 1 Axes>"
      ]
     },
     "metadata": {
      "needs_background": "light"
     },
     "output_type": "display_data"
    }
   ],
   "source": [
    "# 4.3 최소제곱법으로 회귀선 구하기\n",
    "import numpy as np\n",
    "import matplotlib.pyplot as plt\n",
    "X = [0.3, -0.78, 1.26, 0.03, 1.11, 0.24, -0.24, -0.47, -0.77, -0.37, -0.85, -0.41, -0.27, 0.02, -0.76, 2.66]\n",
    "Y = [12.27, 14.44, 11.87, 18.75, 17.52, 16.37, 19.78, 19.51, 12.65, 14.74, 10.72, 21.94, 12.83, 15.51, 17.14, 14.42]\n",
    "\n",
    "# X, Y의 평균을 구합니다.\n",
    "x_bar = sum(X) / len(X)\n",
    "y_bar = sum(Y) / len(Y)\n",
    "\n",
    "# 최소제곱법으로 a, b를 구합니다.\n",
    "a = sum([(y - y_bar) * (x - x_bar) for y, x in list(zip(Y, X))])\n",
    "a /= sum([(x - x_bar) ** 2 for x in X])\n",
    "b = y_bar - a * x_bar\n",
    "print('a:', a, 'b:', b)\n",
    "\n",
    "# 그래프를 그리기 위해 회귀선의 x, y 데이터를 구합니다.\n",
    "line_x = np.arange(min(X), max(X), 0.01)\n",
    "line_y = a * line_x + b\n",
    "\n",
    "# 붉은색 실선으로 회귀선을 그립니다.\n",
    "plt.plot(line_x,line_y,'r-')\n",
    "\n",
    "plt.plot(X,Y,'bo')\n",
    "plt.xlabel('Population Growth Rate (%)')\n",
    "plt.ylabel('Elderly Population Rate (%)')\n",
    "plt.show()"
   ]
  },
  {
   "cell_type": "code",
   "execution_count": 6,
   "metadata": {
    "colab": {
     "base_uri": "https://localhost:8080/",
     "height": 463
    },
    "colab_type": "code",
    "id": "mnpySfdvnu2O",
    "outputId": "b6a23cee-78d0-425c-e8ac-a79a51fdbc14"
   },
   "outputs": [
    {
     "name": "stdout",
     "output_type": "stream",
     "text": [
      "99 a: 0.12996426 b: 6.5186453 loss: 93.321365\n",
      "199 a: -0.110375084 b: 11.043237 loss: 31.131788\n",
      "299 a: -0.2518526 b: 13.7095785 loss: 13.6124735\n",
      "399 a: -0.31943873 b: 14.983373 loss: 10.250233\n",
      "499 a: -0.34536093 b: 15.471932 loss: 9.819675\n",
      "599 a: -0.35336602 b: 15.62281 loss: 9.782961\n",
      "699 a: -0.35536137 b: 15.660411 loss: 9.780882\n",
      "799 a: -0.35576183 b: 15.667948 loss: 9.780806\n",
      "899 a: -0.35582587 b: 15.66915 loss: 9.780804\n",
      "999 a: -0.35583302 b: 15.669302 loss: 9.780805\n"
     ]
    },
    {
     "data": {
      "image/png": "[encoded data removed]",
      "text/plain": [
       "<Figure size 432x288 with 1 Axes>"
      ]
     },
     "metadata": {
      "needs_background": "light"
     },
     "output_type": "display_data"
    }
   ],
   "source": [
    "# 4.4 텐서플로를 이용해서 회귀선 구하기\n",
    "import tensorflow as tf\n",
    "import numpy as np\n",
    "import matplotlib.pyplot as plt\n",
    "import random\n",
    "X = [0.3, -0.78, 1.26, 0.03, 1.11, 0.24, -0.24, -0.47, -0.77, -0.37, -0.85, -0.41, -0.27, 0.02, -0.76, 2.66]\n",
    "Y = [12.27, 14.44, 11.87, 18.75, 17.52, 16.37, 19.78, 19.51, 12.65, 14.74, 10.72, 21.94, 12.83, 15.51, 17.14, 14.42]\n",
    "\n",
    "# a와 b를 랜덤한 값으로 초기화합니다.\n",
    "a = tf.Variable(random.random())\n",
    "b = tf.Variable(random.random())\n",
    "\n",
    "# 잔차의 제곱의 평균을 반환하는 함수입니다.\n",
    "def compute_loss():\n",
    "    y_pred = a * X + b\n",
    "    loss = tf.reduce_mean((Y - y_pred) ** 2)\n",
    "    return loss\n",
    "\n",
    "optimizer = tf.keras.optimizers.Adam(lr=0.07)\n",
    "for i in range(1000):\n",
    "    # 잔차의 제곱의 평균을 최소화(minimize)합니다.\n",
    "    optimizer.minimize(compute_loss, var_list=[a,b])\n",
    "    \n",
    "    if i % 100 == 99:\n",
    "        print(i, 'a:', a.numpy(), 'b:', b.numpy(), 'loss:', compute_loss().numpy())\n",
    "\n",
    "line_x = np.arange(min(X), max(X), 0.01)\n",
    "line_y = a * line_x + b\n",
    "\n",
    "# 그래프를 그립니다.\n",
    "plt.plot(line_x,line_y,'r-')\n",
    "plt.plot(X,Y,'bo')\n",
    "plt.xlabel('Population Growth Rate (%)')\n",
    "plt.ylabel('Elderly Population Rate (%)')\n",
    "plt.show()"
   ]
  },
  {
   "cell_type": "markdown",
   "metadata": {
    "colab_type": "text",
    "id": "gkjyJAqnN8Zs"
   },
   "source": [
    "# 4.2 다항 회귀(Polynomial Regression)"
   ]
  },
  {
   "cell_type": "code",
   "execution_count": 7,
   "metadata": {
    "colab": {
     "base_uri": "https://localhost:8080/",
     "height": 463
    },
    "colab_type": "code",
    "id": "20I8mAhBOAid",
    "outputId": "27f112c3-d732-4aef-ba34-175bf0afef9d"
   },
   "outputs": [
    {
     "name": "stdout",
     "output_type": "stream",
     "text": [
      "99 a: 3.957832 b: -5.5596676 c: 6.213907 loss: 71.794525\n",
      "199 a: 2.8934848 b: -4.8005137 c: 10.115563 loss: 32.956566\n",
      "299 a: 1.3835671 b: -2.5203602 c: 12.779581 loss: 16.730564\n",
      "399 a: 0.39283693 b: -0.9961492 c: 14.466056 loss: 11.21577\n",
      "499 a: -0.14856644 b: -0.16350746 c: 15.389112 loss: 9.788534\n",
      "599 a: -0.4049817 b: 0.2307937 c: 15.826473 loss: 9.505058\n",
      "699 a: -0.510652 b: 0.39328542 c: 16.006721 loss: 9.461708\n",
      "799 a: -0.5486037 b: 0.45164487 c: 16.07146 loss: 9.456604\n",
      "899 a: -0.56047314 b: 0.46989548 c: 16.09171 loss: 9.456145\n",
      "999 a: -0.56369704 b: 0.4748534 c: 16.097208 loss: 9.456112\n"
     ]
    },
    {
     "data": {
      "image/png": "[encoded data removed]",
      "text/plain": [
       "<Figure size 432x288 with 1 Axes>"
      ]
     },
     "metadata": {
      "needs_background": "light"
     },
     "output_type": "display_data"
    }
   ],
   "source": [
    "# 4.5 텐서플로우를 이용해서 2차 함수 회귀선 구하기\n",
    "import tensorflow as tf\n",
    "import numpy as np\n",
    "import matplotlib.pyplot as plt\n",
    "import random\n",
    "X = [0.3, -0.78, 1.26, 0.03, 1.11, 0.24, -0.24, -0.47, -0.77, -0.37, -0.85, -0.41, -0.27, 0.02, -0.76, 2.66]\n",
    "Y = [12.27, 14.44, 11.87, 18.75, 17.52, 16.37, 19.78, 19.51, 12.65, 14.74, 10.72, 21.94, 12.83, 15.51, 17.14, 14.42]\n",
    "\n",
    "# a, b, c를 랜덤한 값으로 초기화합니다.\n",
    "a = tf.Variable(random.random())\n",
    "b = tf.Variable(random.random())\n",
    "c = tf.Variable(random.random())\n",
    "\n",
    "# 잔차의 제곱의 평균을 반환하는 함수입니다.\n",
    "def compute_loss():\n",
    "    y_pred = a * X*X + b * X + c\n",
    "    loss = tf.reduce_mean((Y - y_pred) ** 2)\n",
    "    return loss\n",
    "\n",
    "optimizer = tf.keras.optimizers.Adam(lr=0.07)\n",
    "for i in range(1000):\n",
    "    # 잔차의 제곱의 평균을 최소화(minimize)합니다.\n",
    "    optimizer.minimize(compute_loss, var_list=[a,b,c])\n",
    "    \n",
    "    if i % 100 == 99:\n",
    "        print(i, 'a:', a.numpy(), 'b:', b.numpy(), 'c:', c.numpy(), 'loss:', compute_loss().numpy())\n",
    "\n",
    "line_x = np.arange(min(X), max(X), 0.01)\n",
    "line_y = a * line_x * line_x + b * line_x + c\n",
    "\n",
    "# 그래프를 그립니다.\n",
    "plt.plot(line_x,line_y,'r-')\n",
    "plt.plot(X,Y,'bo')\n",
    "plt.xlabel('Population Growth Rate (%)')\n",
    "plt.ylabel('Elderly Population Rate (%)')\n",
    "plt.show()"
   ]
  },
  {
   "cell_type": "code",
   "execution_count": 0,
   "metadata": {
    "colab": {
     "base_uri": "https://localhost:8080/",
     "height": 463
    },
    "colab_type": "code",
    "id": "eEA2cg-mCBOA",
    "outputId": "8c7ebc4a-500a-4f0f-f1c2-b8a1064e3205"
   },
   "outputs": [
    {
     "name": "stdout",
     "output_type": "stream",
     "text": [
      "99 a: -1.2564825 b: 7.2653337 c: -4.759797 d: 0.7626014 loss: 151.67218\n",
      "199 a: -2.8898041 b: 11.835857 c: -5.3980103 d: 0.7626014 loss: 132.65906\n",
      "299 a: -4.171622 b: 14.875216 c: -4.556038 d: 0.7626014 loss: 125.74563\n",
      "399 a: -4.948379 b: 16.676939 c: -3.947625 d: 0.7626014 loss: 123.677315\n",
      "499 a: -5.3436556 b: 17.59378 c: -3.6379592 d: 0.7626014 loss: 123.21343\n",
      "599 a: -5.5156665 b: 17.992847 c: -3.5034103 d: 0.7626014 loss: 123.13554\n",
      "699 a: -5.579892 b: 18.141865 c: -3.4531763 d: 0.7626014 loss: 123.12575\n",
      "799 a: -5.600496 b: 18.189663 c: -3.437067 d: 0.7626014 loss: 123.124825\n",
      "899 a: -5.6061625 b: 18.2028 c: -3.4326386 d: 0.7626014 loss: 123.12475\n",
      "999 a: -5.6074877 b: 18.205883 c: -3.4315991 d: 0.7626014 loss: 123.12474\n"
     ]
    },
    {
     "data": {
      "image/png": "[encoded data removed]",
      "text/plain": [
       "<Figure size 432x288 with 1 Axes>"
      ]
     },
     "metadata": {
      "tags": []
     },
     "output_type": "display_data"
    }
   ],
   "source": [
    "# 4.6 텐서플로우를 이용해서 3차 함수 회귀선 구하기\n",
    "import tensorflow as tf\n",
    "import numpy as np\n",
    "import matplotlib.pyplot as plt\n",
    "import random\n",
    "X = [0.3, -0.78, 1.26, 0.03, 1.11, 0.24, -0.24, -0.47, -0.77, -0.37, -0.85, -0.41, -0.27, 0.02, -0.76, 2.66]\n",
    "Y = [12.27, 14.44, 11.87, 18.75, 17.52, 16.37, 19.78, 19.51, 12.65, 14.74, 10.72, 21.94, 12.83, 15.51, 17.14, 14.42]\n",
    "\n",
    "# a, b, c, d를 랜덤한 값으로 초기화합니다.\n",
    "a = tf.Variable(random.random())\n",
    "b = tf.Variable(random.random())\n",
    "c = tf.Variable(random.random())\n",
    "d = tf.Variable(random.random())\n",
    "\n",
    "# 잔차의 제곱의 평균을 반환하는 함수입니다.\n",
    "def compute_loss():\n",
    "    y_pred = a * X*X*X + b * X*X + c * X + d\n",
    "    loss = tf.reduce_mean((Y - y_pred) ** 2)\n",
    "    return loss\n",
    "\n",
    "optimizer = tf.keras.optimizers.Adam(lr=0.07)\n",
    "for i in range(1000):\n",
    "    # 잔차의 제곱의 평균을 최소화(minimize)합니다.\n",
    "    optimizer.minimize(compute_loss, var_list=[a,b,c,d])\n",
    "    \n",
    "    if i % 100 == 99:\n",
    "        print(i, 'a:', a.numpy(), 'b:', b.numpy(), 'c:', c.numpy(), 'd:', d.numpy(), 'loss:', compute_loss().numpy())\n",
    "\n",
    "line_x = np.arange(min(X), max(X), 0.01)\n",
    "line_y = a * line_x * line_x * line_x + b * line_x * line_x + c * line_x + d\n",
    "\n",
    "# 그래프를 그립니다.\n",
    "plt.plot(line_x,line_y,'r-')\n",
    "plt.plot(X,Y,'bo')\n",
    "plt.xlabel('Population Growth Rate (%)')\n",
    "plt.ylabel('Elderly Population Rate (%)')\n",
    "plt.show()"
   ]
  },
  {
   "cell_type": "markdown",
   "metadata": {
    "colab_type": "text",
    "id": "vifwuMeTOAu0"
   },
   "source": [
    "# 4.3 딥러닝 네트워크를 이용한 회귀"
   ]
  },
  {
   "cell_type": "code",
   "execution_count": 8,
   "metadata": {
    "colab": {
     "base_uri": "https://localhost:8080/",
     "height": 233
    },
    "colab_type": "code",
    "id": "00-h5uNNOM7V",
    "outputId": "f901d014-8163-4fa3-ebb6-8e26dc0c5b12"
   },
   "outputs": [
    {
     "name": "stdout",
     "output_type": "stream",
     "text": [
      "Model: \"sequential\"\n",
      "_________________________________________________________________\n",
      "Layer (type)                 Output Shape              Param #   \n",
      "=================================================================\n",
      "dense (Dense)                (None, 6)                 12        \n",
      "_________________________________________________________________\n",
      "dense_1 (Dense)              (None, 1)                 7         \n",
      "=================================================================\n",
      "Total params: 19\n",
      "Trainable params: 19\n",
      "Non-trainable params: 0\n",
      "_________________________________________________________________\n"
     ]
    }
   ],
   "source": [
    "# 4.7 딥러닝 네트워크를 이용한 회귀\n",
    "import tensorflow as tf\n",
    "import numpy as np\n",
    "\n",
    "X = [0.3, -0.78, 1.26, 0.03, 1.11, 0.24, -0.24, -0.47, -0.77, -0.37, -0.85, -0.41, -0.27, 0.02, -0.76, 2.66]\n",
    "Y = [12.27, 14.44, 11.87, 18.75, 17.52, 16.37, 19.78, 19.51, 12.65, 14.74, 10.72, 21.94, 12.83, 15.51, 17.14, 14.42]\n",
    "\n",
    "model = tf.keras.Sequential([\n",
    "    tf.keras.layers.Dense(units=6, activation='tanh', input_shape=(1,)),\n",
    "    tf.keras.layers.Dense(units=1)\n",
    "])\n",
    "\n",
    "model.compile(optimizer=tf.keras.optimizers.SGD(lr=0.1), loss='mse')\n",
    "\n",
    "model.summary()"
   ]
  },
  {
   "cell_type": "code",
   "execution_count": 9,
   "metadata": {
    "colab": {
     "base_uri": "https://localhost:8080/",
     "height": 395
    },
    "colab_type": "code",
    "id": "QylCvZXCJ16b",
    "outputId": "9cea4b57-272b-40d3-cd09-d2c4ffca5614"
   },
   "outputs": [
    {
     "name": "stdout",
     "output_type": "stream",
     "text": [
      "Epoch 1/10\n",
      "1/1 [==============================] - 0s 1ms/step - loss: 255.3543\n",
      "Epoch 2/10\n",
      "1/1 [==============================] - 0s 1ms/step - loss: 118.8156\n",
      "Epoch 3/10\n",
      "1/1 [==============================] - 0s 1ms/step - loss: 10.1510\n",
      "Epoch 4/10\n",
      "1/1 [==============================] - 0s 1ms/step - loss: 9.6569\n",
      "Epoch 5/10\n",
      "1/1 [==============================] - 0s 991us/step - loss: 9.5425\n",
      "Epoch 6/10\n",
      "1/1 [==============================] - 0s 1ms/step - loss: 9.4644\n",
      "Epoch 7/10\n",
      "1/1 [==============================] - 0s 2ms/step - loss: 9.3975\n",
      "Epoch 8/10\n",
      "1/1 [==============================] - 0s 1ms/step - loss: 9.3350\n",
      "Epoch 9/10\n",
      "1/1 [==============================] - 0s 1ms/step - loss: 9.2730\n",
      "Epoch 10/10\n",
      "1/1 [==============================] - 0s 1ms/step - loss: 9.2093\n"
     ]
    },
    {
     "data": {
      "text/plain": [
       "<tensorflow.python.keras.callbacks.History at 0x14391b7d0>"
      ]
     },
     "execution_count": 9,
     "metadata": {},
     "output_type": "execute_result"
    }
   ],
   "source": [
    "# 4.8 딥러닝 네트워크의 학습\n",
    "model.fit(X, Y, epochs=10)"
   ]
  },
  {
   "cell_type": "code",
   "execution_count": 10,
   "metadata": {
    "colab": {
     "base_uri": "https://localhost:8080/",
     "height": 305
    },
    "colab_type": "code",
    "id": "dKNRgRT-VmNo",
    "outputId": "ade404ad-a424-46bb-dff1-c8a912c0ac21"
   },
   "outputs": [
    {
     "data": {
      "text/plain": [
       "array([[16.016563],\n",
       "       [15.532858],\n",
       "       [14.864111],\n",
       "       [16.095133],\n",
       "       [15.095716],\n",
       "       [16.045406],\n",
       "       [16.041521],\n",
       "       [15.891323],\n",
       "       [15.547295],\n",
       "       [15.968523],\n",
       "       [15.426321],\n",
       "       [15.939852],\n",
       "       [16.027405],\n",
       "       [16.095505],\n",
       "       [15.561537],\n",
       "       [13.48521 ]], dtype=float32)"
      ]
     },
     "execution_count": 10,
     "metadata": {},
     "output_type": "execute_result"
    }
   ],
   "source": [
    "# 4.9 딥러닝 네트워크의 Y값 예측\n",
    "model.predict(X)"
   ]
  },
  {
   "cell_type": "code",
   "execution_count": 11,
   "metadata": {
    "colab": {
     "base_uri": "https://localhost:8080/",
     "height": 283
    },
    "colab_type": "code",
    "id": "3hOY981DK93b",
    "outputId": "ae1087c2-0b96-4800-b8c7-66e5a0f73d16"
   },
   "outputs": [
    {
     "data": {
      "image/png": "[encoded data removed]",
      "text/plain": [
       "<Figure size 432x288 with 1 Axes>"
      ]
     },
     "metadata": {
      "needs_background": "light"
     },
     "output_type": "display_data"
    }
   ],
   "source": [
    "# 4.10 딥러닝 네트워크의 회귀선 확인\n",
    "import matplotlib.pyplot as plt\n",
    "\n",
    "line_x = np.arange(min(X), max(X), 0.01)\n",
    "line_y = model.predict(line_x)\n",
    "\n",
    "plt.plot(line_x,line_y,'r-')\n",
    "plt.plot(X,Y,'bo')\n",
    "plt.xlabel('Population Growth Rate (%)')\n",
    "plt.ylabel('Elderly Population Rate (%)')\n",
    "plt.show()"
   ]
  },
  {
   "cell_type": "code",
   "execution_count": 12,
   "metadata": {
    "colab": {
     "base_uri": "https://localhost:8080/",
     "height": 269
    },
    "colab_type": "code",
    "id": "hXUej2dfYEi3",
    "outputId": "879ab97f-8e9d-4592-89eb-e520732e7a1a"
   },
   "outputs": [
    {
     "data": {
      "image/png": "[encoded data removed]",
      "text/plain": [
       "<Figure size 432x288 with 1 Axes>"
      ]
     },
     "metadata": {
      "needs_background": "light"
     },
     "output_type": "display_data"
    }
   ],
   "source": [
    "# 그림 4.2 출력 코드\n",
    "import math\n",
    "def sigmoid(x):\n",
    "    return 1 / (1 + math.exp(-x))\n",
    "\n",
    "x = np.arange(-5, 5, 0.01)\n",
    "sigmoid_x = [sigmoid(z) for z in x]\n",
    "tanh_x = [math.tanh(z) for z in x]\n",
    "\n",
    "plt.axhline(0, color='gray')\n",
    "plt.axvline(0, color='gray')\n",
    "plt.plot(x, sigmoid_x, 'b-', label='sigmoid')\n",
    "plt.plot(x, tanh_x, 'r--', label='tanh')\n",
    "plt.legend()\n",
    "plt.show()"
   ]
  },
  {
   "cell_type": "markdown",
   "metadata": {
    "colab_type": "text",
    "id": "raf-pMEBKfmn"
   },
   "source": [
    "# 4.4 보스턴 주택 가격 데이터세트(Boston Housing Dataset)"
   ]
  },
  {
   "cell_type": "code",
   "execution_count": 6,
   "metadata": {
    "colab": {
     "base_uri": "https://localhost:8080/",
     "height": 89
    },
    "colab_type": "code",
    "id": "nYyev2iFKf-M",
    "outputId": "208cbd88-ed60-424e-d71c-7399faefcd5d"
   },
   "outputs": [
    {
     "name": "stdout",
     "output_type": "stream",
     "text": [
      "404 102\n",
      "[  1.23247   0.        8.14      0.        0.538     6.142    91.7\n",
      "   3.9769    4.      307.       21.      396.9      18.72   ]\n",
      "15.2\n"
     ]
    }
   ],
   "source": [
    "# 4.11 데이터 불러오기\n",
    "from tensorflow.keras.datasets import boston_housing\n",
    "(train_X, train_Y), (test_X, test_Y) = boston_housing.load_data()\n",
    "\n",
    "print(len(train_X), len(test_X))\n",
    "print(train_X[0])\n",
    "print(train_Y[0])"
   ]
  },
  {
   "cell_type": "code",
   "execution_count": 7,
   "metadata": {
    "colab": {
     "base_uri": "https://localhost:8080/",
     "height": 89
    },
    "colab_type": "code",
    "id": "SavRNrV6oVxE",
    "outputId": "c7dce322-8f79-4fa6-f850-c1fda0cd4454"
   },
   "outputs": [
    {
     "name": "stdout",
     "output_type": "stream",
     "text": [
      "[-0.27224633 -0.48361547 -0.43576161 -0.25683275 -0.1652266  -0.1764426\n",
      "  0.81306188  0.1166983  -0.62624905 -0.59517003  1.14850044  0.44807713\n",
      "  0.8252202 ]\n",
      "-0.7821526033779157\n"
     ]
    }
   ],
   "source": [
    "# 4.12 데이터 전처리(정규화)\n",
    "x_mean = train_X.mean(axis=0)\n",
    "x_std = train_X.std(axis=0)\n",
    "train_X -= x_mean\n",
    "train_X /= x_std\n",
    "test_X -= x_mean\n",
    "test_X /= x_std\n",
    "\n",
    "y_mean = train_Y.mean(axis=0)\n",
    "y_std = train_Y.std(axis=0)\n",
    "train_Y -= y_mean\n",
    "train_Y /= y_std\n",
    "test_Y -= y_mean\n",
    "test_Y /= y_std\n",
    "\n",
    "print(train_X[0])\n",
    "print(train_Y[0])"
   ]
  },
  {
   "cell_type": "code",
   "execution_count": 8,
   "metadata": {
    "colab": {
     "base_uri": "https://localhost:8080/",
     "height": 305
    },
    "colab_type": "code",
    "id": "cwSYzQG0Ych9",
    "outputId": "b801bd07-d7e7-44e7-9872-65ac97593f90"
   },
   "outputs": [
    {
     "name": "stdout",
     "output_type": "stream",
     "text": [
      "Model: \"sequential\"\n",
      "_________________________________________________________________\n",
      "Layer (type)                 Output Shape              Param #   \n",
      "=================================================================\n",
      "dense (Dense)                (None, 52)                728       \n",
      "_________________________________________________________________\n",
      "dense_1 (Dense)              (None, 39)                2067      \n",
      "_________________________________________________________________\n",
      "dense_2 (Dense)              (None, 26)                1040      \n",
      "_________________________________________________________________\n",
      "dense_3 (Dense)              (None, 1)                 27        \n",
      "=================================================================\n",
      "Total params: 3,862\n",
      "Trainable params: 3,862\n",
      "Non-trainable params: 0\n",
      "_________________________________________________________________\n"
     ]
    }
   ],
   "source": [
    "# 4.13 Boston Housing Dataset 회귀 모델 생성\n",
    "model = tf.keras.Sequential([\n",
    "    tf.keras.layers.Dense(units=52, activation='relu', input_shape=(13,)),\n",
    "    tf.keras.layers.Dense(units=39, activation='relu'),\n",
    "    tf.keras.layers.Dense(units=26, activation='relu'),\n",
    "    tf.keras.layers.Dense(units=1)\n",
    "])\n",
    "\n",
    "model.compile(optimizer=tf.keras.optimizers.Adam(lr=0.07), loss='mse')\n",
    "\n",
    "model.summary()"
   ]
  },
  {
   "cell_type": "code",
   "execution_count": 9,
   "metadata": {
    "colab": {
     "base_uri": "https://localhost:8080/",
     "height": 265
    },
    "colab_type": "code",
    "id": "TnQV-j20JTgI",
    "outputId": "6a72133c-1dd9-4d37-acc6-048ec712ee37"
   },
   "outputs": [
    {
     "data": {
      "image/png": "[encoded data removed]",
      "text/plain": [
       "<Figure size 432x288 with 1 Axes>"
      ]
     },
     "metadata": {
      "tags": []
     },
     "output_type": "display_data"
    }
   ],
   "source": [
    "# 그림 4.5 출력 코드\n",
    "import math\n",
    "def sigmoid(x):\n",
    "    return 1 / (1 + math.exp(-x))\n",
    "\n",
    "x = np.arange(-5, 5, 0.01)\n",
    "sigmoid_x = [sigmoid(z) for z in x]\n",
    "tanh_x = [math.tanh(z) for z in x]\n",
    "relu = [0 if z < 0 else z for z in x]\n",
    "\n",
    "plt.axhline(0, color='gray')\n",
    "plt.axvline(0, color='gray')\n",
    "plt.plot(x, sigmoid_x, 'b-', label='sigmoid')\n",
    "plt.plot(x, tanh_x, 'r--', label='tanh')\n",
    "plt.plot(x, relu, 'g.', label='relu')\n",
    "plt.legend()\n",
    "plt.show()"
   ]
  },
  {
   "cell_type": "code",
   "execution_count": 10,
   "metadata": {
    "colab": {
     "base_uri": "https://localhost:8080/",
     "height": 917
    },
    "colab_type": "code",
    "id": "wnXGDmwWYud1",
    "outputId": "d63b10f2-5981-442b-b130-80a636468811"
   },
   "outputs": [
    {
     "name": "stdout",
     "output_type": "stream",
     "text": [
      "Epoch 1/25\n",
      "10/10 [==============================] - 0s 16ms/step - loss: 1.4029 - val_loss: 0.6335\n",
      "Epoch 2/25\n",
      "10/10 [==============================] - 0s 5ms/step - loss: 0.6887 - val_loss: 0.5134\n",
      "Epoch 3/25\n",
      "10/10 [==============================] - 0s 6ms/step - loss: 0.4122 - val_loss: 0.2192\n",
      "Epoch 4/25\n",
      "10/10 [==============================] - 0s 5ms/step - loss: 0.2096 - val_loss: 0.2237\n",
      "Epoch 5/25\n",
      "10/10 [==============================] - 0s 5ms/step - loss: 0.1837 - val_loss: 0.2318\n",
      "Epoch 6/25\n",
      "10/10 [==============================] - 0s 5ms/step - loss: 0.1648 - val_loss: 0.2011\n",
      "Epoch 7/25\n",
      "10/10 [==============================] - 0s 5ms/step - loss: 0.1516 - val_loss: 0.1148\n",
      "Epoch 8/25\n",
      "10/10 [==============================] - 0s 5ms/step - loss: 0.1106 - val_loss: 0.1374\n",
      "Epoch 9/25\n",
      "10/10 [==============================] - 0s 5ms/step - loss: 0.1003 - val_loss: 0.1347\n",
      "Epoch 10/25\n",
      "10/10 [==============================] - 0s 5ms/step - loss: 0.0958 - val_loss: 0.1201\n",
      "Epoch 11/25\n",
      "10/10 [==============================] - 0s 5ms/step - loss: 0.1020 - val_loss: 0.2600\n",
      "Epoch 12/25\n",
      "10/10 [==============================] - 0s 5ms/step - loss: 0.1208 - val_loss: 0.1434\n",
      "Epoch 13/25\n",
      "10/10 [==============================] - 0s 5ms/step - loss: 0.1083 - val_loss: 0.1638\n",
      "Epoch 14/25\n",
      "10/10 [==============================] - 0s 5ms/step - loss: 0.1115 - val_loss: 0.1048\n",
      "Epoch 15/25\n",
      "10/10 [==============================] - 0s 5ms/step - loss: 0.0916 - val_loss: 0.1302\n",
      "Epoch 16/25\n",
      "10/10 [==============================] - 0s 5ms/step - loss: 0.0761 - val_loss: 0.1211\n",
      "Epoch 17/25\n",
      "10/10 [==============================] - 0s 5ms/step - loss: 0.0850 - val_loss: 0.1557\n",
      "Epoch 18/25\n",
      "10/10 [==============================] - 0s 5ms/step - loss: 0.0666 - val_loss: 0.1431\n",
      "Epoch 19/25\n",
      "10/10 [==============================] - 0s 5ms/step - loss: 0.0626 - val_loss: 0.1259\n",
      "Epoch 20/25\n",
      "10/10 [==============================] - 0s 5ms/step - loss: 0.0525 - val_loss: 0.1186\n",
      "Epoch 21/25\n",
      "10/10 [==============================] - 0s 5ms/step - loss: 0.0522 - val_loss: 0.1038\n",
      "Epoch 22/25\n",
      "10/10 [==============================] - 0s 5ms/step - loss: 0.0552 - val_loss: 0.1244\n",
      "Epoch 23/25\n",
      "10/10 [==============================] - 0s 5ms/step - loss: 0.0610 - val_loss: 0.1145\n",
      "Epoch 24/25\n",
      "10/10 [==============================] - 0s 5ms/step - loss: 0.0511 - val_loss: 0.1372\n",
      "Epoch 25/25\n",
      "10/10 [==============================] - 0s 5ms/step - loss: 0.0520 - val_loss: 0.1100\n"
     ]
    }
   ],
   "source": [
    "# 4.14 회귀 모델 학습\n",
    "history = model.fit(train_X, train_Y, epochs=25, batch_size=32, validation_split=0.25)"
   ]
  },
  {
   "cell_type": "code",
   "execution_count": 11,
   "metadata": {
    "colab": {
     "base_uri": "https://localhost:8080/",
     "height": 279
    },
    "colab_type": "code",
    "id": "oQFhYTeHmkeb",
    "outputId": "5b9902dc-a289-48c9-c781-88d0ea4470c3"
   },
   "outputs": [
    {
     "data": {
      "image/png": "[encoded data removed]",
      "text/plain": [
       "<Figure size 432x288 with 1 Axes>"
      ]
     },
     "metadata": {
      "tags": []
     },
     "output_type": "display_data"
    }
   ],
   "source": [
    "# 4.15 회귀 모델 학습 결과 시각화\n",
    "import matplotlib.pyplot as plt\n",
    "plt.plot(history.history['loss'], 'b-', label='loss')\n",
    "plt.plot(history.history['val_loss'], 'r--', label='val_loss')\n",
    "plt.xlabel('Epoch')\n",
    "plt.legend()\n",
    "plt.show()"
   ]
  },
  {
   "cell_type": "code",
   "execution_count": 12,
   "metadata": {
    "colab": {
     "base_uri": "https://localhost:8080/",
     "height": 53
    },
    "colab_type": "code",
    "id": "FXIL_Isaao_t",
    "outputId": "a89a1d63-d651-43e8-f225-79c43fcd880a"
   },
   "outputs": [
    {
     "name": "stdout",
     "output_type": "stream",
     "text": [
      "4/4 [==============================] - 0s 2ms/step - loss: 0.5020\n"
     ]
    },
    {
     "data": {
      "text/plain": [
       "0.5020208954811096"
      ]
     },
     "execution_count": 12,
     "metadata": {
      "tags": []
     },
     "output_type": "execute_result"
    }
   ],
   "source": [
    "# 4.16 회귀 모델 평가\n",
    "model.evaluate(test_X, test_Y)"
   ]
  },
  {
   "cell_type": "code",
   "execution_count": 13,
   "metadata": {
    "colab": {
     "base_uri": "https://localhost:8080/",
     "height": 339
    },
    "colab_type": "code",
    "id": "JchlHj_HH0cb",
    "outputId": "1b266ad5-78e4-4133-ca9d-5d7267a3b83d"
   },
   "outputs": [
    {
     "data": {
      "image/png": "[encoded data removed]",
      "text/plain": [
       "<Figure size 360x360 with 1 Axes>"
      ]
     },
     "metadata": {
      "tags": []
     },
     "output_type": "display_data"
    }
   ],
   "source": [
    "# 4.17 실제 주택 가격과 예측 주택 가격 시각화\n",
    "import matplotlib.pyplot as plt\n",
    "\n",
    "pred_Y = model.predict(test_X)\n",
    "\n",
    "plt.figure(figsize=(5,5))\n",
    "plt.plot(test_Y, pred_Y, 'b.')\n",
    "plt.axis([min(test_Y), max(test_Y), min(test_Y), max(test_Y)])\n",
    "\n",
    "# y=x에 해당하는 대각선\n",
    "plt.plot([min(test_Y), max(test_Y)], [min(test_Y), max(test_Y)], ls=\"--\", c=\".3\")\n",
    "plt.xlabel('test_Y')\n",
    "plt.ylabel('pred_Y')\n",
    "\n",
    "plt.show()"
   ]
  },
  {
   "cell_type": "code",
   "execution_count": 29,
   "metadata": {
    "colab": {
     "base_uri": "https://localhost:8080/",
     "height": 665
    },
    "colab_type": "code",
    "id": "m0FujtGj_bg2",
    "outputId": "8259f352-1dfe-4a02-cee4-3d431d17b080"
   },
   "outputs": [
    {
     "name": "stdout",
     "output_type": "stream",
     "text": [
      "Epoch 1/25\n",
      "10/10 [==============================] - 0s 9ms/step - loss: 1.5699 - val_loss: 0.8037\n",
      "Epoch 2/25\n",
      "10/10 [==============================] - 0s 5ms/step - loss: 0.5144 - val_loss: 0.3361\n",
      "Epoch 3/25\n",
      "10/10 [==============================] - 0s 5ms/step - loss: 0.2673 - val_loss: 0.3426\n",
      "Epoch 4/25\n",
      "10/10 [==============================] - 0s 5ms/step - loss: 0.2098 - val_loss: 0.2156\n",
      "Epoch 5/25\n",
      "10/10 [==============================] - 0s 5ms/step - loss: 0.1822 - val_loss: 0.2042\n",
      "Epoch 6/25\n",
      "10/10 [==============================] - 0s 5ms/step - loss: 0.2239 - val_loss: 0.2355\n",
      "Epoch 7/25\n",
      "10/10 [==============================] - 0s 5ms/step - loss: 0.2350 - val_loss: 0.1574\n",
      "Epoch 8/25\n",
      "10/10 [==============================] - 0s 5ms/step - loss: 0.1599 - val_loss: 0.1330\n",
      "Epoch 9/25\n",
      "10/10 [==============================] - 0s 5ms/step - loss: 0.1313 - val_loss: 0.1334\n",
      "Epoch 10/25\n",
      "10/10 [==============================] - 0s 5ms/step - loss: 0.1266 - val_loss: 0.1221\n",
      "Epoch 11/25\n",
      "10/10 [==============================] - 0s 5ms/step - loss: 0.0987 - val_loss: 0.1198\n",
      "Epoch 12/25\n",
      "10/10 [==============================] - 0s 5ms/step - loss: 0.0983 - val_loss: 0.1166\n",
      "Epoch 13/25\n",
      "10/10 [==============================] - 0s 5ms/step - loss: 0.1038 - val_loss: 0.1045\n",
      "Epoch 14/25\n",
      "10/10 [==============================] - 0s 4ms/step - loss: 0.1166 - val_loss: 0.1320\n",
      "Epoch 15/25\n",
      "10/10 [==============================] - 0s 5ms/step - loss: 0.1125 - val_loss: 0.1008\n",
      "Epoch 16/25\n",
      "10/10 [==============================] - 0s 5ms/step - loss: 0.0881 - val_loss: 0.1741\n",
      "Epoch 17/25\n",
      "10/10 [==============================] - 0s 4ms/step - loss: 0.0995 - val_loss: 0.1052\n",
      "Epoch 18/25\n",
      "10/10 [==============================] - 0s 5ms/step - loss: 0.0782 - val_loss: 0.1227\n"
     ]
    }
   ],
   "source": [
    "# 4.18 모델 재정의 및 학습\n",
    "model = tf.keras.Sequential([\n",
    "    tf.keras.layers.Dense(units=52, activation='relu', input_shape=(13,)),\n",
    "    tf.keras.layers.Dense(units=39, activation='relu'),\n",
    "    tf.keras.layers.Dense(units=26, activation='relu'),\n",
    "    tf.keras.layers.Dense(units=1)\n",
    "])\n",
    "\n",
    "model.compile(optimizer=tf.keras.optimizers.Adam(lr=0.07), loss='mse')\n",
    "\n",
    "history = model.fit(train_X, train_Y, epochs=25, batch_size=32, validation_split=0.25, callbacks=[tf.keras.callbacks.EarlyStopping(patience=3, monitor='val_loss')])"
   ]
  },
  {
   "cell_type": "code",
   "execution_count": 30,
   "metadata": {
    "colab": {
     "base_uri": "https://localhost:8080/",
     "height": 279
    },
    "colab_type": "code",
    "id": "JRuoLaJM_zIK",
    "outputId": "d390585d-308d-45c2-ad8e-636bdc7b512a"
   },
   "outputs": [
    {
     "data": {
      "image/png": "[encoded data removed]",
      "text/plain": [
       "<Figure size 432x288 with 1 Axes>"
      ]
     },
     "metadata": {
      "tags": []
     },
     "output_type": "display_data"
    }
   ],
   "source": [
    "# 4.19 회귀 모델 학습 결과 시각화\n",
    "import matplotlib.pyplot as plt\n",
    "plt.plot(history.history['loss'], 'b-', label='loss')\n",
    "plt.plot(history.history['val_loss'], 'r--', label='val_loss')\n",
    "plt.xlabel('Epoch')\n",
    "plt.legend()\n",
    "plt.show()"
   ]
  },
  {
   "cell_type": "code",
   "execution_count": 31,
   "metadata": {
    "colab": {
     "base_uri": "https://localhost:8080/",
     "height": 53
    },
    "colab_type": "code",
    "id": "UBTn6vOq_3ar",
    "outputId": "78f0d2a8-e126-417e-abe0-0eef5af658e9"
   },
   "outputs": [
    {
     "name": "stdout",
     "output_type": "stream",
     "text": [
      "4/4 [==============================] - 0s 2ms/step - loss: 0.3032\n"
     ]
    },
    {
     "data": {
      "text/plain": [
       "0.30322206020355225"
      ]
     },
     "execution_count": 31,
     "metadata": {
      "tags": []
     },
     "output_type": "execute_result"
    }
   ],
   "source": [
    "# 4.20 회귀 모델 평가\n",
    "model.evaluate(test_X, test_Y)"
   ]
  },
  {
   "cell_type": "code",
   "execution_count": 32,
   "metadata": {
    "colab": {
     "base_uri": "https://localhost:8080/",
     "height": 339
    },
    "colab_type": "code",
    "id": "5dBsLf-GDphx",
    "outputId": "4186a0f2-70be-4b18-e7f2-11b4ae781634"
   },
   "outputs": [
    {
     "data": {
      "image/png": "[encoded data removed]",
      "text/plain": [
       "<Figure size 360x360 with 1 Axes>"
      ]
     },
     "metadata": {
      "tags": []
     },
     "output_type": "display_data"
    }
   ],
   "source": [
    "# 4.21 실제 주택 가격과 예측 주택 가격 시각화\n",
    "import matplotlib.pyplot as plt\n",
    "\n",
    "pred_Y = model.predict(test_X)\n",
    "\n",
    "plt.figure(figsize=(5,5))\n",
    "plt.plot(test_Y, pred_Y, 'b.')\n",
    "plt.axis([min(test_Y), max(test_Y), min(test_Y), max(test_Y)])\n",
    "\n",
    "plt.plot([min(test_Y), max(test_Y)], [min(test_Y), max(test_Y)], ls=\"--\", c=\".3\")\n",
    "plt.xlabel('test_Y')\n",
    "plt.ylabel('pred_Y')\n",
    "\n",
    "plt.show()"
   ]
  }
 ],
 "metadata": {
  "accelerator": "GPU",
  "colab": {
   "collapsed_sections": [],
   "name": "Chapter4.ipynb",
   "provenance": [],
   "toc_visible": true
  },
  "kernelspec": {
   "display_name": "Python 3",
   "language": "python",
   "name": "python3"
  },
  "language_info": {
   "codemirror_mode": {
    "name": "ipython",
    "version": 3
   },
   "file_extension": ".py",
   "mimetype": "text/x-python",
   "name": "python",
   "nbconvert_exporter": "python",
   "pygments_lexer": "ipython3",
   "version": "3.7.7"
  }
 },
 "nbformat": 4,
 "nbformat_minor": 1
}
